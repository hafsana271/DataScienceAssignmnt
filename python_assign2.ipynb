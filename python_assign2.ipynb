{
  "nbformat": 4,
  "nbformat_minor": 0,
  "metadata": {
    "colab": {
      "provenance": [],
      "authorship_tag": "ABX9TyMZJSOxgR2zF6g80LjFV3w6",
      "include_colab_link": true
    },
    "kernelspec": {
      "name": "python3",
      "display_name": "Python 3"
    },
    "language_info": {
      "name": "python"
    }
  },
  "cells": [
    {
      "cell_type": "markdown",
      "metadata": {
        "id": "view-in-github",
        "colab_type": "text"
      },
      "source": [
        "<a href=\"https://colab.research.google.com/github/hafsana271/DataScienceAssignmnt/blob/main/python_assign2.ipynb\" target=\"_parent\"><img src=\"https://colab.research.google.com/assets/colab-badge.svg\" alt=\"Open In Colab\"/></a>"
      ]
    },
    {
      "cell_type": "markdown",
      "source": [
        "1.Write a Python program to accept a string value from the user and display\n",
        "the count of each character in that string.\n",
        "\n"
      ],
      "metadata": {
        "id": "G_9qUDSAsk2X"
      }
    },
    {
      "cell_type": "code",
      "source": [
        "a=(input(\"Enter a string:\"))\n",
        "count={}\n",
        "for i in a:\n",
        "    if i in count:\n",
        "        count[i]+=1\n",
        "    else:\n",
        "        count[i]=1\n",
        "for i,j in count.items():\n",
        "    print(i,\"=\", j)\n",
        "\n"
      ],
      "metadata": {
        "colab": {
          "base_uri": "https://localhost:8080/"
        },
        "id": "GrXz8qwYsxzl",
        "outputId": "a794d7c3-3280-436d-d256-544dc541439f"
      },
      "execution_count": 8,
      "outputs": [
        {
          "output_type": "stream",
          "name": "stdout",
          "text": [
            "Enter a string:hello\n",
            "h = 1\n",
            "e = 1\n",
            "l = 2\n",
            "o = 1\n"
          ]
        }
      ]
    },
    {
      "cell_type": "markdown",
      "source": [
        "2.Write a Python function to find the maximum of three numbers.\n"
      ],
      "metadata": {
        "id": "UdofXxZ6uijd"
      }
    },
    {
      "cell_type": "code",
      "source": [
        "a=[34,12,7]\n",
        "print(max(a))"
      ],
      "metadata": {
        "colab": {
          "base_uri": "https://localhost:8080/"
        },
        "id": "mKVEh5LculsL",
        "outputId": "781be3e5-3648-475d-d075-c397faa194ad"
      },
      "execution_count": 9,
      "outputs": [
        {
          "output_type": "stream",
          "name": "stdout",
          "text": [
            "34\n"
          ]
        }
      ]
    },
    {
      "cell_type": "markdown",
      "source": [
        "3.Write a Python function called exponent(base,exp) that returns an\n",
        "integer value of base raises to the power of exp\n",
        "\n"
      ],
      "metadata": {
        "id": "_ojuX2Tzu2Fw"
      }
    },
    {
      "cell_type": "code",
      "source": [
        "base=int(input(\"Enter base:\"))\n",
        "exp=int(input(\"Enter exponent:\"))\n",
        "def exponent(base,exp):\n",
        "    return base**exp\n",
        "exponent(base,exp)"
      ],
      "metadata": {
        "colab": {
          "base_uri": "https://localhost:8080/"
        },
        "id": "XIRm-1bOu3NE",
        "outputId": "b3f1f293-bf37-4619-db2b-6cecf1a9d48b"
      },
      "execution_count": 11,
      "outputs": [
        {
          "name": "stdout",
          "output_type": "stream",
          "text": [
            "Enter base:2\n",
            "Enter exponent:3\n"
          ]
        },
        {
          "output_type": "execute_result",
          "data": {
            "text/plain": [
              "8"
            ]
          },
          "metadata": {},
          "execution_count": 11
        }
      ]
    },
    {
      "cell_type": "markdown",
      "source": [
        "4.Write a Python function that takes a positive integer and returns the sum\n",
        "of the cube of all the positive integers smaller than the specified number.\n"
      ],
      "metadata": {
        "id": "80E0RAvovhGB"
      }
    },
    {
      "cell_type": "code",
      "source": [
        "def sum_of_cubes(n):\n",
        "    sum=0\n",
        "    for i in range(1,n):\n",
        "        sum+=i**3\n",
        "    return sum\n",
        "a=int(input(\"Enter a number: \"))\n",
        "result = sum_of_cubes(a)\n",
        "print(\"The sum of cubes of all positive integers smaller than\", a, \"is\", result)"
      ],
      "metadata": {
        "colab": {
          "base_uri": "https://localhost:8080/"
        },
        "id": "AK66RlFAvh4P",
        "outputId": "9c51b822-fc73-4c7a-d22e-61551a8bf653"
      },
      "execution_count": 12,
      "outputs": [
        {
          "output_type": "stream",
          "name": "stdout",
          "text": [
            "Enter a number: 4\n",
            "The sum of cubes of all positive integers smaller than 4 is 36\n"
          ]
        }
      ]
    },
    {
      "cell_type": "code",
      "source": [],
      "metadata": {
        "id": "ueTlCHgiv58j"
      },
      "execution_count": 12,
      "outputs": []
    },
    {
      "cell_type": "markdown",
      "source": [
        "5.Write a Python program which iterates from 1 to 10. For multiples of 2,\n",
        "  print “Fizz” instead of the number and for the multiples of 5, print “Buzz”.\n",
        "  For numbers which are multiples of both 2 and 5, print “FizzBuzz”.\n"
      ],
      "metadata": {
        "id": "_U_PPIcfwD_E"
      }
    },
    {
      "cell_type": "code",
      "source": [
        "for i in range(1, 11):\n",
        "    if i % 2 == 0 and i % 5 == 0:\n",
        "        print(\"FizzBuzz\")\n",
        "    elif i % 2 == 0:\n",
        "        print(\"Fizz\")\n",
        "    elif i % 5 == 0:\n",
        "        print(\"Buzz\")\n",
        "    else:\n",
        "        print(i)"
      ],
      "metadata": {
        "colab": {
          "base_uri": "https://localhost:8080/"
        },
        "id": "cKmqht1BwEwu",
        "outputId": "c21df079-a49c-4edc-a637-34fb270b0cc1"
      },
      "execution_count": 13,
      "outputs": [
        {
          "output_type": "stream",
          "name": "stdout",
          "text": [
            "1\n",
            "Fizz\n",
            "3\n",
            "Fizz\n",
            "Buzz\n",
            "Fizz\n",
            "7\n",
            "Fizz\n",
            "9\n",
            "FizzBuzz\n"
          ]
        }
      ]
    },
    {
      "cell_type": "markdown",
      "source": [
        "6.Write a Python program to find the most frequent item in a list of\n",
        "  numbers.\n"
      ],
      "metadata": {
        "id": "fZnltc_gwZCl"
      }
    },
    {
      "cell_type": "code",
      "source": [
        "a=[2,3,4,2,5,2]\n",
        "print(\"The most frequent is = \",max(a))"
      ],
      "metadata": {
        "colab": {
          "base_uri": "https://localhost:8080/"
        },
        "id": "sdGRan2bwZr_",
        "outputId": "8bb8a7ad-1385-4d61-d621-82d2947fa290"
      },
      "execution_count": 18,
      "outputs": [
        {
          "output_type": "stream",
          "name": "stdout",
          "text": [
            "The most frequent is =  5\n"
          ]
        }
      ]
    },
    {
      "cell_type": "markdown",
      "source": [
        "7.Write a Python program to find the sum of squares of the numbers in a\n",
        "  list.\n"
      ],
      "metadata": {
        "id": "zslRmka0xVuV"
      }
    },
    {
      "cell_type": "code",
      "source": [
        "a = [2, 1, 3, 1]\n",
        "sum_of_squares = 0\n",
        "for num in a:\n",
        "    sum_of_squares += num ** 2\n",
        "print(sum_of_squares)"
      ],
      "metadata": {
        "colab": {
          "base_uri": "https://localhost:8080/"
        },
        "id": "UqUu-0pYxczS",
        "outputId": "3b7f6fcc-3c17-418b-d43a-bccb4a16e38a"
      },
      "execution_count": 19,
      "outputs": [
        {
          "output_type": "stream",
          "name": "stdout",
          "text": [
            "15\n"
          ]
        }
      ]
    },
    {
      "cell_type": "code",
      "source": [],
      "metadata": {
        "id": "doQYcnkL3FR3"
      },
      "execution_count": null,
      "outputs": []
    },
    {
      "cell_type": "markdown",
      "source": [
        "8.Write a Python program using for loop that will iterate from 1 to 15. For\n",
        "each iteration, check if the current number is odd or even, and display the\n",
        "message to the screen as odd or even.\n",
        "\n"
      ],
      "metadata": {
        "id": "7mIMy_Ix3IOP"
      }
    },
    {
      "cell_type": "code",
      "source": [
        "for i in range(1, 16):\n",
        "    if i % 2 == 0:\n",
        "        print(f\"{i} is even\")\n",
        "    else:\n",
        "        print(f\"{i} is odd\")"
      ],
      "metadata": {
        "colab": {
          "base_uri": "https://localhost:8080/"
        },
        "id": "1FUhe5gZ3QKh",
        "outputId": "3c9427b0-4b2e-49c7-c412-0e6d588f0122"
      },
      "execution_count": 20,
      "outputs": [
        {
          "output_type": "stream",
          "name": "stdout",
          "text": [
            "1 is odd\n",
            "2 is even\n",
            "3 is odd\n",
            "4 is even\n",
            "5 is odd\n",
            "6 is even\n",
            "7 is odd\n",
            "8 is even\n",
            "9 is odd\n",
            "10 is even\n",
            "11 is odd\n",
            "12 is even\n",
            "13 is odd\n",
            "14 is even\n",
            "15 is odd\n"
          ]
        }
      ]
    },
    {
      "cell_type": "code",
      "source": [],
      "metadata": {
        "id": "i407EFxX3YFs"
      },
      "execution_count": null,
      "outputs": []
    },
    {
      "cell_type": "markdown",
      "source": [
        "9.Write a Python program to convert temperatures to and from Celsius\n",
        "Fahrenheit. [Formula: c/5=f-32/9 where c=temperature in Celsius and f=\n",
        "temperature in Fahrenheit.]\n"
      ],
      "metadata": {
        "id": "FMD9sPyS3eet"
      }
    },
    {
      "cell_type": "code",
      "source": [
        "f=int(input(\"Temperature in Fahrenheit =\"))\n",
        "c=(f-32)*5/9\n",
        "print(\"Temperature in Celsius =\",int(c))\n"
      ],
      "metadata": {
        "colab": {
          "base_uri": "https://localhost:8080/"
        },
        "id": "V-20F0vq3pba",
        "outputId": "6c046686-a436-47c6-89e7-4a31371550a6"
      },
      "execution_count": 22,
      "outputs": [
        {
          "output_type": "stream",
          "name": "stdout",
          "text": [
            "Temperature in Fahrenheit =35\n",
            "Temperature in Celsius = 1\n"
          ]
        }
      ]
    },
    {
      "cell_type": "code",
      "source": [],
      "metadata": {
        "id": "GzL85Zzv5Dsb"
      },
      "execution_count": null,
      "outputs": []
    },
    {
      "cell_type": "markdown",
      "source": [
        "10.Write a Python function to calculate the factorial of a number (a\n",
        "nonnegative integer). The function accepts the number as an argument.\n"
      ],
      "metadata": {
        "id": "uwWafeTK5UHR"
      }
    },
    {
      "cell_type": "code",
      "source": [
        "fact=int(input(\"Enter the number: \"))\n",
        "def factorial(fact):\n",
        "    if fact==0:\n",
        "        return 1\n",
        "    else:\n",
        "        return fact*factorial(fact-1)\n",
        "print(factorial(fact))"
      ],
      "metadata": {
        "colab": {
          "base_uri": "https://localhost:8080/"
        },
        "id": "nLDS-VSv5edF",
        "outputId": "311b1d1d-c119-4eda-e182-85889b9c354d"
      },
      "execution_count": 23,
      "outputs": [
        {
          "output_type": "stream",
          "name": "stdout",
          "text": [
            "Enter the number: 3\n",
            "6\n"
          ]
        }
      ]
    },
    {
      "cell_type": "code",
      "source": [],
      "metadata": {
        "id": "Bufp7hTE5sfn"
      },
      "execution_count": null,
      "outputs": []
    }
  ]
}