{
  "nbformat": 4,
  "nbformat_minor": 0,
  "metadata": {
    "colab": {
      "provenance": [],
      "authorship_tag": "ABX9TyO4dSO5pKjrbBUnDpThAuzq",
      "include_colab_link": true
    },
    "kernelspec": {
      "name": "python3",
      "display_name": "Python 3"
    },
    "language_info": {
      "name": "python"
    }
  },
  "cells": [
    {
      "cell_type": "markdown",
      "metadata": {
        "id": "view-in-github",
        "colab_type": "text"
      },
      "source": [
        "<a href=\"https://colab.research.google.com/github/hafsana271/DataScienceAssignmnt/blob/main/Python_basic_task_assign.ipynb\" target=\"_parent\"><img src=\"https://colab.research.google.com/assets/colab-badge.svg\" alt=\"Open In Colab\"/></a>"
      ]
    },
    {
      "cell_type": "markdown",
      "source": [],
      "metadata": {
        "id": "-TpoJkFZOo_Z"
      }
    },
    {
      "cell_type": "markdown",
      "source": [
        "1.Given the string \"Hello, World!\", extract and print the\n",
        "substring \"Hello\"."
      ],
      "metadata": {
        "id": "J9EWMP1EO5Za"
      }
    },
    {
      "cell_type": "code",
      "source": [
        "a=(\"hello world\")\n",
        "print(a[0:5])"
      ],
      "metadata": {
        "colab": {
          "base_uri": "https://localhost:8080/"
        },
        "id": "dLmNv6dZPA6M",
        "outputId": "353f2abf-eba7-4817-81d8-43cf8d7ae7a7"
      },
      "execution_count": null,
      "outputs": [
        {
          "output_type": "stream",
          "name": "stdout",
          "text": [
            "hello\n"
          ]
        }
      ]
    },
    {
      "cell_type": "markdown",
      "source": [
        "2.Given the string \"Python is fun\", extract and print the\n",
        "substring \"is\""
      ],
      "metadata": {
        "id": "8hNZuQaJPWUw"
      }
    },
    {
      "cell_type": "code",
      "source": [
        "a=(\"python is fun\")\n",
        "print(a[7:9])"
      ],
      "metadata": {
        "colab": {
          "base_uri": "https://localhost:8080/"
        },
        "id": "txTfcHdQPXxF",
        "outputId": "d83e943c-1702-4216-ea58-8f31d1137206"
      },
      "execution_count": null,
      "outputs": [
        {
          "output_type": "stream",
          "name": "stdout",
          "text": [
            "is\n"
          ]
        }
      ]
    },
    {
      "cell_type": "code",
      "source": [],
      "metadata": {
        "id": "Bf7nCiDiPl1J"
      },
      "execution_count": null,
      "outputs": []
    },
    {
      "cell_type": "markdown",
      "source": [
        "3.Given the string \"Programming\", extract and print the\n",
        "substring \"gram\" using slicing indices"
      ],
      "metadata": {
        "id": "e4SVAmX1PmuQ"
      }
    },
    {
      "cell_type": "code",
      "source": [
        "a=(\"programming\")\n",
        "print(a[3:7])"
      ],
      "metadata": {
        "colab": {
          "base_uri": "https://localhost:8080/"
        },
        "id": "bq8OUJ39Pslm",
        "outputId": "7bc6c02f-44df-45b4-de65-8060049a2610"
      },
      "execution_count": null,
      "outputs": [
        {
          "output_type": "stream",
          "name": "stdout",
          "text": [
            "gram\n"
          ]
        }
      ]
    },
    {
      "cell_type": "markdown",
      "source": [
        "4.\n",
        "Given the string \"abcdefgh\", use slicing to print only the\n",
        "characters at even indices."
      ],
      "metadata": {
        "id": "y2jP5j1dP-Kp"
      }
    },
    {
      "cell_type": "code",
      "source": [
        "a=(\"abcdefgh\")\n",
        "print(a[1::2])"
      ],
      "metadata": {
        "colab": {
          "base_uri": "https://localhost:8080/"
        },
        "id": "D3JTvYUIQIKc",
        "outputId": "ebc4863a-724c-4891-b7ff-3a16868cf81b"
      },
      "execution_count": null,
      "outputs": [
        {
          "output_type": "stream",
          "name": "stdout",
          "text": [
            "bdfh\n"
          ]
        }
      ]
    },
    {
      "cell_type": "code",
      "source": [],
      "metadata": {
        "id": "t2PnTzs5QQd3"
      },
      "execution_count": null,
      "outputs": []
    },
    {
      "cell_type": "markdown",
      "source": [
        "5.Given the string \"abcdefg\", use negative indices to extract\n",
        "and print the substring \"efg\"."
      ],
      "metadata": {
        "id": "k1AhjyICQXu9"
      }
    },
    {
      "cell_type": "code",
      "source": [
        "a=(\"abcdefg\")\n",
        "print(a[-3:])"
      ],
      "metadata": {
        "colab": {
          "base_uri": "https://localhost:8080/"
        },
        "id": "Om3wqsA6QdBW",
        "outputId": "b369c26f-611d-4b10-ab99-1066aa16c455"
      },
      "execution_count": null,
      "outputs": [
        {
          "output_type": "stream",
          "name": "stdout",
          "text": [
            "efg\n"
          ]
        }
      ]
    },
    {
      "cell_type": "code",
      "source": [
        "\n"
      ],
      "metadata": {
        "id": "2hS3wyP5QmxS"
      },
      "execution_count": null,
      "outputs": []
    },
    {
      "cell_type": "markdown",
      "source": [
        "6.Given the string \"Data Science\", use negative indices to\n",
        "extract and print the last three characters"
      ],
      "metadata": {
        "id": "CXJac0_lQoUW"
      }
    },
    {
      "cell_type": "code",
      "source": [
        "a=(\"data science\")\n",
        "print(a[-3:])"
      ],
      "metadata": {
        "colab": {
          "base_uri": "https://localhost:8080/"
        },
        "id": "bg1acUI6Qtgh",
        "outputId": "f739f078-d4a1-4ab6-b821-df9d9198b890"
      },
      "execution_count": null,
      "outputs": [
        {
          "output_type": "stream",
          "name": "stdout",
          "text": [
            "nce\n"
          ]
        }
      ]
    },
    {
      "cell_type": "code",
      "source": [],
      "metadata": {
        "id": "kXRiEsKyQz28"
      },
      "execution_count": null,
      "outputs": []
    },
    {
      "cell_type": "markdown",
      "source": [
        "7.Given the string \"abcdefghij\", use slicing with a step to\n",
        "print every second character."
      ],
      "metadata": {
        "id": "mHriDu9dQ14E"
      }
    },
    {
      "cell_type": "code",
      "source": [
        "a=(\"abcdefghij\")\n",
        "print(a[1::2])"
      ],
      "metadata": {
        "colab": {
          "base_uri": "https://localhost:8080/"
        },
        "id": "XqQ4u5RuQ9CP",
        "outputId": "0dc3d8d8-de4a-4ca0-8743-020eadbb8415"
      },
      "execution_count": null,
      "outputs": [
        {
          "output_type": "stream",
          "name": "stdout",
          "text": [
            "bdfhj\n"
          ]
        }
      ]
    },
    {
      "cell_type": "code",
      "source": [],
      "metadata": {
        "id": "6ab_xbN9RCeK"
      },
      "execution_count": null,
      "outputs": []
    },
    {
      "cell_type": "markdown",
      "source": [
        "8.Given the string \"1234567890\", use slicing with a step to\n",
        "print the odd digits."
      ],
      "metadata": {
        "id": "5ZWUGtWURD2e"
      }
    },
    {
      "cell_type": "code",
      "source": [
        "a=(\"1234567890\")\n",
        "print(a[0::2])"
      ],
      "metadata": {
        "colab": {
          "base_uri": "https://localhost:8080/"
        },
        "id": "42TZWIArRJzl",
        "outputId": "514c9b29-410a-4db4-a5d0-ac8c6b75988e"
      },
      "execution_count": null,
      "outputs": [
        {
          "output_type": "stream",
          "name": "stdout",
          "text": [
            "13579\n"
          ]
        }
      ]
    },
    {
      "cell_type": "code",
      "source": [],
      "metadata": {
        "id": "AAcKIoR8RQAM"
      },
      "execution_count": null,
      "outputs": []
    },
    {
      "cell_type": "markdown",
      "source": [
        "9.Given the string \"Hello\", use slicing to print the string in\n",
        "reverse order."
      ],
      "metadata": {
        "id": "X8RBGZd7RQ85"
      }
    },
    {
      "cell_type": "code",
      "source": [
        "a=(\"hello\")\n",
        "print(a[::-1])"
      ],
      "metadata": {
        "colab": {
          "base_uri": "https://localhost:8080/"
        },
        "id": "gobG4HrMRUS2",
        "outputId": "885c8da3-afce-4c6d-87ba-7d97b15c0b12"
      },
      "execution_count": null,
      "outputs": [
        {
          "output_type": "stream",
          "name": "stdout",
          "text": [
            "olleh\n"
          ]
        }
      ]
    },
    {
      "cell_type": "code",
      "source": [],
      "metadata": {
        "id": "rMbn8XoSRYfu"
      },
      "execution_count": null,
      "outputs": []
    },
    {
      "cell_type": "markdown",
      "source": [
        "10.Given the string \"abcdefghijk\", extract and print the\n",
        "substring \"acegik\" using slicing"
      ],
      "metadata": {
        "id": "6BS3MO-DRZ6-"
      }
    },
    {
      "cell_type": "code",
      "source": [
        "a=(\"abcdefghijk\")\n",
        "print(a[0::2])"
      ],
      "metadata": {
        "colab": {
          "base_uri": "https://localhost:8080/"
        },
        "id": "WvEUFzhLRdk0",
        "outputId": "5ac5973b-8ddb-45d4-9241-a9c07052ddf2"
      },
      "execution_count": null,
      "outputs": [
        {
          "output_type": "stream",
          "name": "stdout",
          "text": [
            "bdfhj\n"
          ]
        }
      ]
    },
    {
      "cell_type": "code",
      "source": [],
      "metadata": {
        "id": "CAiDjcN4Rjn8"
      },
      "execution_count": null,
      "outputs": []
    },
    {
      "cell_type": "markdown",
      "source": [
        "11.Write a program to find sum of all elements in a list of\n",
        "integers"
      ],
      "metadata": {
        "id": "wfINgtV4RrnR"
      }
    },
    {
      "cell_type": "code",
      "source": [
        "def sum_of_elements(int_list):\n",
        "    return sum(int_list)\n",
        "numbers = [1, 2, 3, 4, 5]\n",
        "result = sum_of_elements(numbers)\n",
        "print(\"The sum of all elements in the list is:\", result)"
      ],
      "metadata": {
        "colab": {
          "base_uri": "https://localhost:8080/"
        },
        "id": "u-18Nj96R6Bp",
        "outputId": "048f4832-f78d-45b2-f175-d0cb13286fa4"
      },
      "execution_count": null,
      "outputs": [
        {
          "output_type": "stream",
          "name": "stdout",
          "text": [
            "The sum of all elements in the list is: 15\n"
          ]
        }
      ]
    },
    {
      "cell_type": "code",
      "source": [],
      "metadata": {
        "id": "E3FsVPVWSK4R"
      },
      "execution_count": null,
      "outputs": []
    },
    {
      "cell_type": "markdown",
      "source": [
        "12.Input a sentence as a string.\n",
        "a) Print its length\n",
        "b) Print the first half of string"
      ],
      "metadata": {
        "id": "tmPo7LnjSTdn"
      }
    },
    {
      "cell_type": "code",
      "source": [
        "a=(\"hello world\")\n",
        "print(len(a))\n",
        "print(a[0:6])"
      ],
      "metadata": {
        "colab": {
          "base_uri": "https://localhost:8080/"
        },
        "id": "8en8_-HNSYIi",
        "outputId": "587cdbe7-f82d-403e-fb76-482d93370131"
      },
      "execution_count": null,
      "outputs": [
        {
          "output_type": "stream",
          "name": "stdout",
          "text": [
            "11\n",
            "hello \n"
          ]
        }
      ]
    },
    {
      "cell_type": "code",
      "source": [],
      "metadata": {
        "id": "xDs-t90-Sipt"
      },
      "execution_count": null,
      "outputs": []
    },
    {
      "cell_type": "markdown",
      "source": [
        "14.\n",
        "listA=[19,32,10,55,31,32,94,29,10,65,77,40,40]\n",
        "(a) Delete the first occurrence of 32\n",
        "(b) Delete all occurrences of 40\n",
        "(c) Delete the value at index=5\n",
        "(d) Modify the value at index=9 as 300\n",
        "(e) Add 200 at index=2\n",
        "(f) Print the final list with its length, maximum value"
      ],
      "metadata": {
        "id": "Ssum320GUBHE"
      }
    },
    {
      "cell_type": "code",
      "source": [
        "\n",
        "listA = [19, 32, 10, 55, 31, 32, 94, 29, 10, 65, 77, 40, 40]\n",
        "listA.remove(32)\n",
        "print(listA)\n",
        "listA = [x for x in listA if x != 40]\n",
        "print(listA)\n",
        "listA.pop(5)\n",
        "print(listA)\n",
        "if len(listA) > 9:\n",
        "    listA[9] = 300\n",
        "    print(listA)\n",
        "listA.insert(2, 200)\n",
        "\n",
        "print(\"Final list:\", listA)\n",
        "print(\"Length of the list:\", len(listA))\n",
        "print(\"Maximum value in the list:\", max(listA))\n",
        "print(\"Sum of all elements in the list:\", sum(listA))\n",
        "print(len(listA))\n",
        "print(max(listA))"
      ],
      "metadata": {
        "colab": {
          "base_uri": "https://localhost:8080/"
        },
        "id": "aevDH3HGUucl",
        "outputId": "72f6c294-4d56-4e62-d04d-4b85eead4ec7"
      },
      "execution_count": null,
      "outputs": [
        {
          "output_type": "stream",
          "name": "stdout",
          "text": [
            "[19, 10, 55, 31, 32, 94, 29, 10, 65, 77, 40, 40]\n",
            "[19, 10, 55, 31, 32, 94, 29, 10, 65, 77]\n",
            "[19, 10, 55, 31, 32, 29, 10, 65, 77]\n",
            "Final list: [19, 10, 200, 55, 31, 32, 29, 10, 65, 77]\n",
            "Length of the list: 10\n",
            "Maximum value in the list: 200\n",
            "Sum of all elements in the list: 528\n",
            "10\n",
            "200\n"
          ]
        }
      ]
    },
    {
      "cell_type": "code",
      "source": [],
      "metadata": {
        "id": "Lc3bhO1OUzvJ"
      },
      "execution_count": null,
      "outputs": []
    },
    {
      "cell_type": "markdown",
      "source": [
        "15.Consider a string ”The day has been long”.\n",
        "(a) Delete the value at index =4\n",
        "(b) Print the string 4 times in a single line with space\n",
        "between each repetition\n",
        "(c) Print the string 3 times in a new line each time\n",
        "(d) Modify the string at index 7 as ’A’\n",
        "(e) Print the string from index 4 to 15\n",
        "(f) Print the final string with its length"
      ],
      "metadata": {
        "id": "XPK-xkehU18t"
      }
    },
    {
      "cell_type": "code",
      "source": [
        "string=\"the day has been long\"\n",
        "string=string.replace(\"e\",\"\")\n",
        "print(string)"
      ],
      "metadata": {
        "colab": {
          "base_uri": "https://localhost:8080/"
        },
        "id": "aQ8HkZG4U7wi",
        "outputId": "6f026e9f-d12d-4e9b-8a78-15b76706574a"
      },
      "execution_count": null,
      "outputs": [
        {
          "output_type": "stream",
          "name": "stdout",
          "text": [
            "th day has bn long\n"
          ]
        }
      ]
    },
    {
      "cell_type": "code",
      "source": [
        "string=\"the day has been long\"\n",
        "print(string*4)"
      ],
      "metadata": {
        "colab": {
          "base_uri": "https://localhost:8080/"
        },
        "id": "h3u0ZHm9VIlb",
        "outputId": "87f75187-9062-46b5-a95a-fe9e0780564b"
      },
      "execution_count": null,
      "outputs": [
        {
          "output_type": "stream",
          "name": "stdout",
          "text": [
            "the day has been longthe day has been longthe day has been longthe day has been long\n"
          ]
        }
      ]
    },
    {
      "cell_type": "code",
      "source": [
        "string=\"the day has been long\"\n",
        "print(string*3)\n"
      ],
      "metadata": {
        "colab": {
          "base_uri": "https://localhost:8080/"
        },
        "id": "6YaKDr9TVXaX",
        "outputId": "253c32cd-e1cf-4107-8e12-e4abd92135a5"
      },
      "execution_count": null,
      "outputs": [
        {
          "output_type": "stream",
          "name": "stdout",
          "text": [
            "the day has been longthe day has been longthe day has been long\n"
          ]
        }
      ]
    },
    {
      "cell_type": "code",
      "source": [
        "string=\"the day has been long\"\n",
        "string=string.replace(\"e\",\"a\")\n",
        "print(string)"
      ],
      "metadata": {
        "colab": {
          "base_uri": "https://localhost:8080/"
        },
        "id": "kWuOpt4GVbNs",
        "outputId": "f34d57b0-dcb0-49fa-e41a-301b95851d9b"
      },
      "execution_count": null,
      "outputs": [
        {
          "output_type": "stream",
          "name": "stdout",
          "text": [
            "tha day has baan long\n"
          ]
        }
      ]
    },
    {
      "cell_type": "code",
      "source": [
        "string=\"the day has been long\"\n",
        "print(string[4:15])"
      ],
      "metadata": {
        "colab": {
          "base_uri": "https://localhost:8080/"
        },
        "id": "xU_gSlR3VdSP",
        "outputId": "91c1f113-bd1c-4e0e-adde-21b5d557dd13"
      },
      "execution_count": null,
      "outputs": [
        {
          "output_type": "stream",
          "name": "stdout",
          "text": [
            "day has bee\n"
          ]
        }
      ]
    },
    {
      "cell_type": "code",
      "source": [
        "string=\"the day has been long\"\n",
        "print(len(string))"
      ],
      "metadata": {
        "colab": {
          "base_uri": "https://localhost:8080/"
        },
        "id": "QYMB-myzVfzR",
        "outputId": "b9ff3ad3-9e0d-4ef0-cd3d-7a5e480f7981"
      },
      "execution_count": null,
      "outputs": [
        {
          "output_type": "stream",
          "name": "stdout",
          "text": [
            "21\n"
          ]
        }
      ]
    },
    {
      "cell_type": "code",
      "source": [
        "string=\"the day has been long\"\n",
        "print(string)"
      ],
      "metadata": {
        "colab": {
          "base_uri": "https://localhost:8080/"
        },
        "id": "qvFGKvw1Vk2g",
        "outputId": "f6f4c497-3541-41d3-e195-9e1c5d97005c"
      },
      "execution_count": null,
      "outputs": [
        {
          "output_type": "stream",
          "name": "stdout",
          "text": [
            "the day has been long\n"
          ]
        }
      ]
    },
    {
      "cell_type": "code",
      "source": [],
      "metadata": {
        "id": "Boph-FDMVm4X"
      },
      "execution_count": null,
      "outputs": []
    },
    {
      "cell_type": "markdown",
      "source": [
        "13.Write a program to enter a tuple of integers as (78,45,32,19,82,77,40,39). Change the third value in the tuple to 100"
      ],
      "metadata": {
        "id": "g_l-d_G5KOxL"
      }
    },
    {
      "cell_type": "code",
      "source": [
        "tuple1 =(78,45,32,19,82,77,40,39)\n",
        "list1=list(tuple1)\n",
        "list1[2]=100\n",
        "tuple1=tuple(list1)\n",
        "print(tuple1)"
      ],
      "metadata": {
        "colab": {
          "base_uri": "https://localhost:8080/"
        },
        "id": "-86qhbOkKUhI",
        "outputId": "67c0a395-e5f0-491d-e9e5-6f3bd03a38e5"
      },
      "execution_count": null,
      "outputs": [
        {
          "output_type": "stream",
          "name": "stdout",
          "text": [
            "(78, 45, 100, 19, 82, 77, 40, 39)\n"
          ]
        }
      ]
    },
    {
      "cell_type": "code",
      "source": [],
      "metadata": {
        "id": "-EBXTmu8KY5I"
      },
      "execution_count": null,
      "outputs": []
    }
  ]
}