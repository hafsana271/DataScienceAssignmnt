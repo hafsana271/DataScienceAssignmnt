{
  "nbformat": 4,
  "nbformat_minor": 0,
  "metadata": {
    "colab": {
      "provenance": [],
      "authorship_tag": "ABX9TyOVymN+zIVlf9h7MJNRuwxY",
      "include_colab_link": true
    },
    "kernelspec": {
      "name": "python3",
      "display_name": "Python 3"
    },
    "language_info": {
      "name": "python"
    }
  },
  "cells": [
    {
      "cell_type": "markdown",
      "metadata": {
        "id": "view-in-github",
        "colab_type": "text"
      },
      "source": [
        "<a href=\"https://colab.research.google.com/github/hafsana271/DataScienceAssignmnt/blob/main/Assignmnt1.ipynb\" target=\"_parent\"><img src=\"https://colab.research.google.com/assets/colab-badge.svg\" alt=\"Open In Colab\"/></a>"
      ]
    },
    {
      "cell_type": "markdown",
      "source": [
        "1.Write a Python program which accepts the radius of a circle from the user\n",
        "and compute the area.\n"
      ],
      "metadata": {
        "id": "6y-pSwZV9W4l"
      }
    },
    {
      "cell_type": "code",
      "execution_count": null,
      "metadata": {
        "colab": {
          "base_uri": "https://localhost:8080/"
        },
        "id": "PCfUFhpVhTfY",
        "outputId": "ad4bc1b7-efc6-4535-e6d5-1448bc4532c4"
      },
      "outputs": [
        {
          "output_type": "stream",
          "name": "stdout",
          "text": [
            "enter the radius of circle:3\n",
            "28.259999999999998\n"
          ]
        }
      ],
      "source": [
        "r=int(input(\"enter the radius of circle:\"))\n",
        "a=3.14 * r * r\n",
        "print(a)"
      ]
    },
    {
      "cell_type": "markdown",
      "source": [
        "2.Write a Python Program to accept the details of a student like name, roll\n",
        "number and mark and display it.\n"
      ],
      "metadata": {
        "id": "zciE71um8Q55"
      }
    },
    {
      "cell_type": "code",
      "source": [
        "name=\"Anisha\"\n",
        "rollnumber=21\n",
        "mark=78\n",
        "print(name)\n",
        "print(rollnumber)\n",
        "print(mark)"
      ],
      "metadata": {
        "id": "14DOraochyi_",
        "colab": {
          "base_uri": "https://localhost:8080/"
        },
        "outputId": "b736d254-1151-4e96-e1c8-59e5edb95f04"
      },
      "execution_count": null,
      "outputs": [
        {
          "output_type": "stream",
          "name": "stdout",
          "text": [
            "Anisha\n",
            "21\n",
            "78\n"
          ]
        }
      ]
    },
    {
      "cell_type": "markdown",
      "source": [
        "3.Write a Python program to get the largest number from a list\n"
      ],
      "metadata": {
        "id": "r2VSCNqy9KDG"
      }
    },
    {
      "cell_type": "code",
      "source": [
        "\n",
        "list=[12,3,47,10]\n",
        "print(\"Largest element is:\", max(list))\n",
        "\n"
      ],
      "metadata": {
        "colab": {
          "base_uri": "https://localhost:8080/"
        },
        "id": "-xsx6VQc5lb6",
        "outputId": "6a82964f-cda8-4003-fc2e-7a8af0c8f208"
      },
      "execution_count": null,
      "outputs": [
        {
          "output_type": "stream",
          "name": "stdout",
          "text": [
            "Largest element is: 47\n"
          ]
        }
      ]
    },
    {
      "cell_type": "markdown",
      "source": [
        "4.Given a range of first 10 numbers, write a Python program to iterate from\n",
        "start number to the end number and print the sum of the current number\n",
        "and previous number.\n",
        "\n"
      ],
      "metadata": {
        "id": "YwHLC_L88nDf"
      }
    },
    {
      "cell_type": "code",
      "source": [
        "for i in range(1,11):\n",
        "  previous_num=0\n",
        "for current_num in range(1,11):\n",
        "  sum=previous_num + current_num\n",
        "  print(f\"current_num: {current_num}, previous_num: {previous_num},sum:{sum}\")\n",
        "  previuos_num=current_num"
      ],
      "metadata": {
        "colab": {
          "base_uri": "https://localhost:8080/"
        },
        "id": "rmYlqGd9626d",
        "outputId": "2aea14ff-7645-4e96-861a-bff76d20f16b"
      },
      "execution_count": null,
      "outputs": [
        {
          "output_type": "stream",
          "name": "stdout",
          "text": [
            "current_num: 1, previous_num: 0,sum:1\n",
            "current_num: 2, previous_num: 0,sum:2\n",
            "current_num: 3, previous_num: 0,sum:3\n",
            "current_num: 4, previous_num: 0,sum:4\n",
            "current_num: 5, previous_num: 0,sum:5\n",
            "current_num: 6, previous_num: 0,sum:6\n",
            "current_num: 7, previous_num: 0,sum:7\n",
            "current_num: 8, previous_num: 0,sum:8\n",
            "current_num: 9, previous_num: 0,sum:9\n",
            "current_num: 10, previous_num: 0,sum:10\n"
          ]
        }
      ]
    },
    {
      "cell_type": "markdown",
      "source": [
        "5.Write a Python program to print only those numbers which are divisible\n",
        "of 5.\n",
        "\n"
      ],
      "metadata": {
        "id": "wgLZV9SB8zDS"
      }
    },
    {
      "cell_type": "code",
      "source": [
        "number=[10,20,33,46,55]\n",
        "for number in number:\n",
        "  if (number % 5==0):\n",
        "      print(number)"
      ],
      "metadata": {
        "colab": {
          "base_uri": "https://localhost:8080/"
        },
        "id": "llhXfsYo_Jho",
        "outputId": "2492f1e8-3ac7-4247-c067-b5fee7d3b887"
      },
      "execution_count": null,
      "outputs": [
        {
          "output_type": "stream",
          "name": "stdout",
          "text": [
            "10\n",
            "20\n",
            "55\n"
          ]
        }
      ]
    },
    {
      "cell_type": "markdown",
      "source": [
        "6.Write a Python program to check whether a number is prime or not.\n",
        "\n"
      ],
      "metadata": {
        "id": "mW_vC5PH92vg"
      }
    },
    {
      "cell_type": "code",
      "source": [
        "a=5\n",
        "for i in range(2,a):\n",
        "    if a%i==0:\n",
        "        print(a,\"is not a prime number.\")\n",
        "        break\n",
        "else:\n",
        "    print(a,\"is a prime number.\")\n",
        ""
      ],
      "metadata": {
        "id": "uLX6Al78_nHp",
        "colab": {
          "base_uri": "https://localhost:8080/"
        },
        "outputId": "ffe5af2c-a3d8-4db2-9c30-e25b7c43fd94"
      },
      "execution_count": 2,
      "outputs": [
        {
          "output_type": "stream",
          "name": "stdout",
          "text": [
            "5 is a prime number.\n"
          ]
        }
      ]
    },
    {
      "cell_type": "markdown",
      "source": [
        "7.Write a Python program to reverse a list using for loop.\n"
      ],
      "metadata": {
        "id": "bDm-_JJw9LJ1"
      }
    },
    {
      "cell_type": "code",
      "source": [
        "rev_num=[10,40,30,70]\n",
        "rev_num.reverse()\n",
        "print(rev_num)\n",
        "\n"
      ],
      "metadata": {
        "colab": {
          "base_uri": "https://localhost:8080/"
        },
        "id": "UKsrRgTU9MtX",
        "outputId": "6e8a7e0a-2d46-41a4-ad47-02b33d15cb3a"
      },
      "execution_count": 3,
      "outputs": [
        {
          "output_type": "stream",
          "name": "stdout",
          "text": [
            "[70, 30, 40, 10]\n"
          ]
        }
      ]
    },
    {
      "cell_type": "code",
      "source": [],
      "metadata": {
        "id": "am4Qo0YJ9Zrm"
      },
      "execution_count": null,
      "outputs": []
    },
    {
      "cell_type": "markdown",
      "source": [
        "8.Write a Python program to print the following pattern.\n",
        "  \n",
        "  **   \n",
        "\n",
        "\n",
        "\n",
        "  \n",
        "\n",
        "\n",
        "\n",
        "\n",
        "\n",
        "\n",
        "\n",
        "\n",
        "\n",
        "\n",
        "\n",
        "\n",
        "\n"
      ],
      "metadata": {
        "id": "VZHsVJfw9bHS"
      }
    },
    {
      "cell_type": "code",
      "source": [
        "for i in range(1,5):\n",
        "    print(\"*\"*i)"
      ],
      "metadata": {
        "colab": {
          "base_uri": "https://localhost:8080/"
        },
        "id": "zsYE-QIc9c0e",
        "outputId": "e7bfd797-3454-4c02-de00-260499eb5742"
      },
      "execution_count": 5,
      "outputs": [
        {
          "output_type": "stream",
          "name": "stdout",
          "text": [
            "*\n",
            "**\n",
            "***\n",
            "****\n"
          ]
        }
      ]
    },
    {
      "cell_type": "code",
      "source": [],
      "metadata": {
        "id": "sQ8mRRei9klp"
      },
      "execution_count": null,
      "outputs": []
    },
    {
      "cell_type": "markdown",
      "source": [
        "9.Write a Python program to find the maximum of three numbers."
      ],
      "metadata": {
        "id": "zJX9W_tY9sje"
      }
    },
    {
      "cell_type": "code",
      "source": [
        "a=(34,12,7)\n",
        "print(max(a))\n",
        ""
      ],
      "metadata": {
        "colab": {
          "base_uri": "https://localhost:8080/"
        },
        "id": "KwbNXYEy9vT0",
        "outputId": "dfd78bee-49f9-415c-a318-e77c3897d79e"
      },
      "execution_count": 6,
      "outputs": [
        {
          "output_type": "stream",
          "name": "stdout",
          "text": [
            "34\n"
          ]
        }
      ]
    },
    {
      "cell_type": "markdown",
      "source": [
        "10.Write a Python program to construct the following pattern, using a nested for loop.\n",
        " *\n",
        "**\n",
        "***\n",
        "****\n",
        "*****\n",
        "****\n",
        "***\n",
        "**\n",
        "*\n"
      ],
      "metadata": {
        "id": "K3lRHTu_9-oY"
      }
    },
    {
      "cell_type": "code",
      "source": [
        "for i in range(1,6):\n",
        "    print(\"*\"*i)\n",
        "for i in range(4,0,-1):\n",
        "    print(\"*\"*i)"
      ],
      "metadata": {
        "colab": {
          "base_uri": "https://localhost:8080/"
        },
        "id": "3kZFGohO-DqT",
        "outputId": "26a1de25-bca9-4fa7-d480-d03d87949309"
      },
      "execution_count": 7,
      "outputs": [
        {
          "output_type": "stream",
          "name": "stdout",
          "text": [
            "*\n",
            "**\n",
            "***\n",
            "****\n",
            "*****\n",
            "****\n",
            "***\n",
            "**\n",
            "*\n"
          ]
        }
      ]
    },
    {
      "cell_type": "code",
      "source": [],
      "metadata": {
        "id": "UgyG1h6r-1Gh"
      },
      "execution_count": null,
      "outputs": []
    }
  ]
}